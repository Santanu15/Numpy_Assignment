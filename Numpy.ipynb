{
 "cells": [
  {
   "cell_type": "code",
   "execution_count": 4,
   "id": "f507a9fb-1daa-43fb-a9ff-d5d901894d49",
   "metadata": {},
   "outputs": [],
   "source": [
    "# Find the shape, size and dimension of the following array?\n",
    "\n",
    "#[[1, 2, 3, 4]\n",
    "#[5, 6, 7, 8],\n",
    "#[9, 10, 11, 12]]"
   ]
  },
  {
   "cell_type": "code",
   "execution_count": 5,
   "id": "f09e33a0-1bd1-49f6-aab9-590633d9fc74",
   "metadata": {},
   "outputs": [],
   "source": [
    "import numpy as np"
   ]
  },
  {
   "cell_type": "code",
   "execution_count": 8,
   "id": "586b9269-ac84-453f-8236-d755fbfd45d3",
   "metadata": {},
   "outputs": [],
   "source": [
    "array=np.array([[1,2,3,4],[5,5,7,8],[9,10,11,12]])"
   ]
  },
  {
   "cell_type": "code",
   "execution_count": 9,
   "id": "69b5b66f-3985-46c7-b79b-8c0213347411",
   "metadata": {},
   "outputs": [],
   "source": [
    "shape=array.shape"
   ]
  },
  {
   "cell_type": "code",
   "execution_count": 10,
   "id": "262242d9-5637-455d-b231-361a9192c80c",
   "metadata": {},
   "outputs": [],
   "source": [
    "size=array.size"
   ]
  },
  {
   "cell_type": "code",
   "execution_count": 12,
   "id": "65285808-c5b8-4f9d-9341-3fbdae462658",
   "metadata": {},
   "outputs": [],
   "source": [
    "dimension=array.ndim"
   ]
  },
  {
   "cell_type": "code",
   "execution_count": 15,
   "id": "34eb9ae8-1e58-4eb5-8b1d-f1ce01d26c28",
   "metadata": {},
   "outputs": [
    {
     "name": "stdout",
     "output_type": "stream",
     "text": [
      "Shape of the array: (3, 4)\n",
      "Size of the array: 12\n",
      "Dimension of the array: 2\n"
     ]
    }
   ],
   "source": [
    "print(\"Shape of the array:\",shape)\n",
    "print(\"Size of the array:\",size)\n",
    "print(\"Dimension of the array:\",dimension)"
   ]
  },
  {
   "cell_type": "code",
   "execution_count": null,
   "id": "4e284bea-1961-44fd-b0e0-093faee58312",
   "metadata": {},
   "outputs": [],
   "source": []
  },
  {
   "cell_type": "code",
   "execution_count": null,
   "id": "5d6f2daf-c962-48e1-9f18-6feccc3b34df",
   "metadata": {},
   "outputs": [],
   "source": []
  },
  {
   "cell_type": "code",
   "execution_count": 16,
   "id": "ada9a493-fed5-4ca7-b75e-26f82be3dbaf",
   "metadata": {},
   "outputs": [],
   "source": [
    "# Write python code to access the first row of the following array?\n",
    "\n",
    "#[[1, 2, 3, 4]\n",
    "#[5, 6, 7, 8],\n",
    "#[9, 10, 11, 12]]"
   ]
  },
  {
   "cell_type": "code",
   "execution_count": 17,
   "id": "d6976465-4905-45bd-aa70-4a22e35a0ebe",
   "metadata": {},
   "outputs": [],
   "source": [
    "import numpy as np"
   ]
  },
  {
   "cell_type": "code",
   "execution_count": 18,
   "id": "3f31a29b-c877-4eca-b735-411bee6ca54b",
   "metadata": {},
   "outputs": [],
   "source": [
    "array=np.array([[1,2,3,4],[5,6,7,8],[9,10,11,12]])"
   ]
  },
  {
   "cell_type": "code",
   "execution_count": 19,
   "id": "d346ea75-a2fb-4812-ae1f-cfd5d3419bdf",
   "metadata": {},
   "outputs": [],
   "source": [
    "first_row=array[0]\n"
   ]
  },
  {
   "cell_type": "code",
   "execution_count": 20,
   "id": "ebca0b49-3427-4c17-b00b-3c9952556134",
   "metadata": {},
   "outputs": [
    {
     "name": "stdout",
     "output_type": "stream",
     "text": [
      "first row of the array: [1 2 3 4]\n"
     ]
    }
   ],
   "source": [
    "print(\"first row of the array:\",first_row)"
   ]
  },
  {
   "cell_type": "code",
   "execution_count": null,
   "id": "00800585-48f3-4242-8652-3569abe658b6",
   "metadata": {},
   "outputs": [],
   "source": []
  },
  {
   "cell_type": "code",
   "execution_count": null,
   "id": "13b92220-f72d-4152-a5d9-abf1028d8fe1",
   "metadata": {},
   "outputs": [],
   "source": []
  },
  {
   "cell_type": "code",
   "execution_count": 21,
   "id": "83f2e424-ad79-414d-89a5-7930345c097f",
   "metadata": {},
   "outputs": [],
   "source": [
    "# How do you access the element at the third row and fourth column from the given numpy array?\n",
    "\n",
    "#[[1, 2, 3, 4]\n",
    "#[5, 6, 7, 8],\n",
    "#[9, 10, 11, 12]]"
   ]
  },
  {
   "cell_type": "code",
   "execution_count": 22,
   "id": "2aaefca1-b49f-4c01-a99d-c3862a1bd149",
   "metadata": {},
   "outputs": [],
   "source": [
    "import numpy as np"
   ]
  },
  {
   "cell_type": "code",
   "execution_count": 23,
   "id": "a84ded29-8022-49ac-ab99-252eb011d135",
   "metadata": {},
   "outputs": [],
   "source": [
    "array=np.array([[1,2,3,4],[5,6,7,8],[9,10,11,12]])"
   ]
  },
  {
   "cell_type": "code",
   "execution_count": 24,
   "id": "25534963-ca73-47ab-bae6-1c0e08b3abd0",
   "metadata": {},
   "outputs": [],
   "source": [
    "element=array[2,3]"
   ]
  },
  {
   "cell_type": "code",
   "execution_count": 25,
   "id": "e9da429a-e590-41f8-bde7-fc49a696eb92",
   "metadata": {},
   "outputs": [
    {
     "name": "stdout",
     "output_type": "stream",
     "text": [
      "elemnt at 3rd row and 4th column: 12\n"
     ]
    }
   ],
   "source": [
    "print(\"elemnt at 3rd row and 4th column:\", element)"
   ]
  },
  {
   "cell_type": "code",
   "execution_count": null,
   "id": "4bf5e6cc-fa10-4e2d-86c2-85ffb3a7ec1b",
   "metadata": {},
   "outputs": [],
   "source": []
  },
  {
   "cell_type": "code",
   "execution_count": null,
   "id": "dc13a859-d617-4beb-95de-a7b201bbb6d9",
   "metadata": {},
   "outputs": [],
   "source": []
  },
  {
   "cell_type": "code",
   "execution_count": 26,
   "id": "16b2c4bb-2b94-4e5c-a57d-2a86c52fa02d",
   "metadata": {},
   "outputs": [],
   "source": [
    "# Write code to extract all odd-indexed elements from the given numpy array?\n",
    "\n",
    "#[[1, 2, 3, 4]\n",
    "#[5, 6, 7, 8],\n",
    "#[9, 10, 11, 12]]"
   ]
  },
  {
   "cell_type": "code",
   "execution_count": 27,
   "id": "0a4f1f0c-998f-4daf-bc6f-fa27108bb920",
   "metadata": {},
   "outputs": [],
   "source": [
    "import numpy as np"
   ]
  },
  {
   "cell_type": "code",
   "execution_count": 28,
   "id": "53e81f8e-a598-4e4d-8181-9f0ae8f7074b",
   "metadata": {},
   "outputs": [],
   "source": [
    "array=np.array([[1,2,3,4],[5,6,7,8],[9,10,11,12]])"
   ]
  },
  {
   "cell_type": "code",
   "execution_count": 31,
   "id": "86eddd15-264f-4e59-854e-a4b6b6e07bdd",
   "metadata": {},
   "outputs": [],
   "source": [
    "flattened_array=array.flatten()"
   ]
  },
  {
   "cell_type": "code",
   "execution_count": 33,
   "id": "1cc952a3-4fdd-4108-b559-12424731f332",
   "metadata": {},
   "outputs": [],
   "source": [
    "odd_element=flattened_array[1::2]"
   ]
  },
  {
   "cell_type": "code",
   "execution_count": 34,
   "id": "1a41c071-610d-422a-a33c-07b6c16fc288",
   "metadata": {},
   "outputs": [
    {
     "name": "stdout",
     "output_type": "stream",
     "text": [
      "elements at odd index: [ 2  4  6  8 10 12]\n"
     ]
    }
   ],
   "source": [
    "print(\"elements at odd index:\",odd_element)"
   ]
  },
  {
   "cell_type": "code",
   "execution_count": null,
   "id": "3516f363-925e-4524-8f11-9cc5986fa7d3",
   "metadata": {},
   "outputs": [],
   "source": []
  },
  {
   "cell_type": "code",
   "execution_count": null,
   "id": "71bff3f8-2f0f-4160-86a9-a7115eb8432b",
   "metadata": {},
   "outputs": [],
   "source": []
  },
  {
   "cell_type": "code",
   "execution_count": 36,
   "id": "d318e4a9-dffd-40d1-9ee0-80f89a0fea0d",
   "metadata": {},
   "outputs": [],
   "source": [
    "# How to transpose the following array in NumPy?\n",
    "\n",
    "#[[1, 2, 3, 4]\n",
    "#[5, 6, 7, 8],\n",
    "#[9, 10, 11, 12]]"
   ]
  },
  {
   "cell_type": "code",
   "execution_count": 37,
   "id": "e4d8558d-902b-4591-b65e-433387cd3a4a",
   "metadata": {},
   "outputs": [],
   "source": [
    " import numpy as np"
   ]
  },
  {
   "cell_type": "code",
   "execution_count": 38,
   "id": "8191ae17-5f1f-471a-a702-b449285283b7",
   "metadata": {},
   "outputs": [],
   "source": [
    "array=np.array([[1,2,3,4],[5,6,7,8],[9,10,11,12]])"
   ]
  },
  {
   "cell_type": "code",
   "execution_count": 40,
   "id": "b35ee66f-46bf-405a-9f12-1a0fe6aa85b2",
   "metadata": {},
   "outputs": [],
   "source": [
    "transpose_array=np.transpose(array)"
   ]
  },
  {
   "cell_type": "code",
   "execution_count": 44,
   "id": "82656b17-6eef-43c2-b2eb-be965a747eb5",
   "metadata": {},
   "outputs": [
    {
     "name": "stdout",
     "output_type": "stream",
     "text": [
      "original aaray: [[ 1  2  3  4]\n",
      " [ 5  6  7  8]\n",
      " [ 9 10 11 12]]\n",
      "Tranposed array is: [[ 1  5  9]\n",
      " [ 2  6 10]\n",
      " [ 3  7 11]\n",
      " [ 4  8 12]]\n"
     ]
    }
   ],
   "source": [
    "print(\"original aaray:\", array)\n",
    "print(\"Tranposed array is:\",transpose_array)"
   ]
  },
  {
   "cell_type": "code",
   "execution_count": null,
   "id": "bc06ddc5-e656-4134-9a2b-61ae3a64ede6",
   "metadata": {},
   "outputs": [],
   "source": []
  },
  {
   "cell_type": "code",
   "execution_count": null,
   "id": "dff8ea0c-421b-4069-a4c6-5a48adca8115",
   "metadata": {},
   "outputs": [],
   "source": []
  },
  {
   "cell_type": "code",
   "execution_count": null,
   "id": "50acb57c-2395-41d1-aa94-0c3b0bfd53e1",
   "metadata": {},
   "outputs": [],
   "source": []
  },
  {
   "cell_type": "code",
   "execution_count": null,
   "id": "aa3f2194-f6f3-4a2c-b361-3a559b5078e0",
   "metadata": {},
   "outputs": [],
   "source": []
  },
  {
   "cell_type": "code",
   "execution_count": null,
   "id": "6fddf642-470f-4f73-8888-667d24e16e19",
   "metadata": {},
   "outputs": [],
   "source": []
  },
  {
   "cell_type": "code",
   "execution_count": null,
   "id": "4c63de0e-abd9-40ec-af5f-4de828320b13",
   "metadata": {},
   "outputs": [],
   "source": []
  }
 ],
 "metadata": {
  "kernelspec": {
   "display_name": "Python 3 (ipykernel)",
   "language": "python",
   "name": "python3"
  },
  "language_info": {
   "codemirror_mode": {
    "name": "ipython",
    "version": 3
   },
   "file_extension": ".py",
   "mimetype": "text/x-python",
   "name": "python",
   "nbconvert_exporter": "python",
   "pygments_lexer": "ipython3",
   "version": "3.10.8"
  }
 },
 "nbformat": 4,
 "nbformat_minor": 5
}
